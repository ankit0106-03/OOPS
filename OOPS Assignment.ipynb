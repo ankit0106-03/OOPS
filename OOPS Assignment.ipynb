{
 "cells": [
  {
   "cell_type": "markdown",
   "metadata": {},
   "source": [
    "1. What is Object-Oriented Programming (OOP)?\n",
    "\n",
    "OOP is a programming paradigm that organizes software design around objects, which combine data (attributes) and behavior (methods). It promotes modular, reusable, and maintainable code through concepts like encapsulation, inheritance, and polymorphism.\n",
    "\n",
    "2. What is a class in OOP?\n",
    "\n",
    "A class is a blueprint for creating objects. It defines attributes and methods that the created objects (instances) will have.\n",
    "\n",
    "class Car:\n",
    "    def __init__(self, brand):\n",
    "        self.brand = brand\n",
    "\n",
    "3. What is an object in OOP?\n",
    "\n",
    "An object is an instance of a class. It represents a specific realization of the class blueprint.\n",
    "\n",
    "my_car = Car(\"Toyota\")  # my_car is an object\n",
    "\n",
    "4. Difference between abstraction and encapsulation:\n",
    "\n",
    "Abstraction\tHides complex implementation and shows only essential features.\n",
    "\n",
    "Encapsulation\tRestricts access to internal data using access modifiers.\n",
    "\n",
    "5. What are dunder methods in Python?\n",
    "\n",
    "Dunder (double underscore) methods are special methods in Python, like __init__, __str__, etc., that allow you to define custom behavior for built-in operations.\n",
    "\n",
    "6. Explain inheritance in OOP:\n",
    "\n",
    "Inheritance allows a class (child) to inherit properties and methods from another class (parent).\n",
    "\n",
    "class Animal:\n",
    "    def speak(self):\n",
    "        print(\"Some sound\")\n",
    "\n",
    "class Dog(Animal):\n",
    "    pass\n",
    "\n",
    "d = Dog()\n",
    "d.speak() \n",
    "\n",
    "7. What is polymorphism in OOP?\n",
    "\n",
    "Polymorphism means the same method name can have different behaviors depending on the object type\n",
    "\n",
    "class Cat:\n",
    "    def speak(self): print(\"Meow\")\n",
    "\n",
    "class Dog:\n",
    "    def speak(self): print(\"Bark\")\n",
    "\n",
    "def make_sound(animal):\n",
    "    animal.speak()\n",
    "\n",
    "\n",
    "8. How is encapsulation achieved in Python?\n",
    "\n",
    "By using private (_ or __) variables and getter/setter methods to control access.\n",
    "\n",
    "class Person:\n",
    "    def __init__(self, name):\n",
    "        self.__name = name  # private\n",
    "\n",
    "\n",
    "9. What is a constructor in Python?\n",
    "\n",
    "The __init__ method is a constructor used to initialize the object when it’s created.\n",
    "\n",
    "\n",
    "10. Class vs Static methods in Python:\n",
    "Method Type \t    Decorator\t        Access\t                Purpose\n",
    "Class method\t    @classmethod\t    Class (cls)\t            Affects the class as a whole\n",
    "Static method\t    @staticmethod\t    No default param\t    Utility function, no class access\n",
    "\n",
    "11. What is method overloading in Python?\n",
    "\n",
    "Python does not support traditional overloading. You mimic it using default arguments or *args.\n",
    "\n",
    "12. What is method overriding in OOP?\n",
    "\n",
    "When a subclass provides a new version of a method from its parent class.\n",
    "\n",
    "13. What is a property decorator in Python?\n",
    "\n",
    "Used to turn a method into a read-only property:\n",
    "\n",
    "class Circle:\n",
    "    def __init__(self, radius):\n",
    "        self._radius = radius\n",
    "\n",
    "    @property\n",
    "    def area(self):\n",
    "        return 3.14 * self._radius ** 2\n",
    "\n",
    "14. Why is polymorphism important in OOP?\n",
    "It allows code to be flexible and extensible, letting you use the same interface for different data types.\n",
    "\n",
    "15. What is an abstract class in Python?\n",
    "An abstract class (via abc module) cannot be instantiated and often contains one or more abstract methods.\n",
    "\n",
    "from abc import ABC, abstractmethod\n",
    "\n",
    "class Animal(ABC):\n",
    "    @abstractmethod\n",
    "    def make_sound(self):\n",
    "        pass\n",
    "\n",
    "\n",
    "16. Advantages of OOP:\n",
    "Code reusability (inheritance)\n",
    "\n",
    "Modularity (classes/objects)\n",
    "\n",
    "Easy maintenance\n",
    "\n",
    "Real-world modeling\n",
    "\n",
    "17. What is multiple inheritance in Python?\n",
    "A class inherits from more than one parent class:\n",
    "\n",
    "class A: pass\n",
    "class B: pass\n",
    "class C(A, B): pass\n",
    "\n",
    "18. Class variable vs Instance variable:\n",
    "Variable Type\t    Shared?\t                        Defined where?\n",
    "\n",
    "Class variable\t    Shared by all instances\t        Inside class, outside methods\n",
    "\n",
    "Instance variable\tUnique to each instance\t    Inside __init__\n",
    "\n",
    "\n",
    "19. Purpose of __str__ and __repr__:\n",
    "__str__: Human-readable string (print(obj))\n",
    "\n",
    "__repr__: Developer/debugging string (repr(obj))\n",
    "\n",
    "\n",
    "20. Significance of super() in Python:\n",
    "super() allows you to call a method from the parent class, especially useful in constructors and overridden methods.\n",
    "\n",
    "\n",
    "21. Significance of __del__ method in Python:\n",
    "The __del__ method is a destructor, called when an object is about to be destroyed (garbage collected). Use cautiously.\n",
    "\n",
    "\n",
    "22. Difference between @staticmethod and @classmethod:\n",
    "\n",
    "Decorator\t    First argument\t        Accesses class?\n",
    "\n",
    "@staticmethod\t    None\t                No\n",
    "\n",
    "@classmethod\t    cls\t                    Yes\n",
    "\n",
    "23. How does polymorphism work in Python with inheritance?\n",
    "You can call the same method on objects of different subclasses, and Python dynamically decides which version to run.\n",
    "\n",
    "\n",
    "24. What is method chaining in Python OOP?\n",
    "Calling multiple methods on the same object in a single line by returning self from each method:\n",
    "\n",
    "\n",
    "    def __init__(self): self.content = \"\"\n",
    "    def add(self, word): self.content += word + \" \"; return self\n",
    "    def show(self): print(self.content)\n",
    "\n",
    "Text().add(\"Hello\").add(\"World\").show()\n",
    "\n",
    "25. What is the purpose of the __call__ method in Python?\n",
    "It makes an object callable like a function.\n",
    "\n",
    "class Greeter:\n",
    "    def __call__(self, name):\n",
    "        print(f\"Hello, {name}!\")\n",
    "\n",
    "greet = Greeter()\n",
    "greet(\"Alice\")  # Acts like a function"
   ]
  },
  {
   "cell_type": "code",
   "execution_count": 1,
   "metadata": {},
   "outputs": [
    {
     "name": "stdout",
     "output_type": "stream",
     "text": [
      "Bark!\n"
     ]
    }
   ],
   "source": [
    "#Practical Questions\n",
    "\n",
    "# Create a parent class Animal with a method speak() that prints a generic message. Create a child class Dog that overrides the speak() method to print \"Bark!\".\n",
    "\n",
    "class Animal:\n",
    "    def speak(self):\n",
    "        print(\"Animal speaks in a generic way.\")\n",
    "\n",
    "class Dog(Animal):\n",
    "    def speak(self):\n",
    "        print(\"Bark!\")\n",
    "\n",
    "dog = Dog()\n",
    "dog.speak()"
   ]
  },
  {
   "cell_type": "code",
   "execution_count": 2,
   "metadata": {},
   "outputs": [
    {
     "name": "stdout",
     "output_type": "stream",
     "text": [
      "78.5\n",
      "24\n"
     ]
    }
   ],
   "source": [
    "# Write a program to create an abstract class Shape with a method area(). Derive classes Circle and Rectangle from it and implement the area() method in both.\n",
    "\n",
    "from abc import ABC, abstractmethod\n",
    "\n",
    "class Shape(ABC):\n",
    "    @abstractmethod\n",
    "    def area(self):\n",
    "        pass\n",
    "\n",
    "class Circle(Shape):\n",
    "    def __init__(self, radius):\n",
    "        self.radius = radius\n",
    "\n",
    "    def area(self):\n",
    "        return 3.14 * self.radius ** 2\n",
    "\n",
    "class Rectangle(Shape):\n",
    "    def __init__(self, width, height):\n",
    "        self.width = width\n",
    "        self.height = height\n",
    "\n",
    "    def area(self):\n",
    "        return self.width * self.height\n",
    "\n",
    "circle = Circle(5)\n",
    "rectangle = Rectangle(4, 6)\n",
    "\n",
    "print(circle.area())\n",
    "print(rectangle.area())\n"
   ]
  },
  {
   "cell_type": "code",
   "execution_count": 3,
   "metadata": {},
   "outputs": [
    {
     "name": "stdout",
     "output_type": "stream",
     "text": [
      "Electric Tesla 100 kWh\n"
     ]
    }
   ],
   "source": [
    "# Implement a multi-level inheritance scenario where a class Vehicle has an attribute type. Derive a class Car and further derive a class ElectricCar that adds a battery attribute.\n",
    "\n",
    "class Vehicle:\n",
    "    def __init__(self, type):\n",
    "        self.type = type\n",
    "\n",
    "class Car(Vehicle):\n",
    "    def __init__(self, type, brand):\n",
    "        super().__init__(type)\n",
    "        self.brand = brand\n",
    "\n",
    "class ElectricCar(Car):\n",
    "    def __init__(self, type, brand, battery):\n",
    "        super().__init__(type, brand)\n",
    "        self.battery = battery\n",
    "\n",
    "e_car = ElectricCar(\"Electric\", \"Tesla\", \"100 kWh\")\n",
    "print(e_car.type, e_car.brand, e_car.battery)\n"
   ]
  },
  {
   "cell_type": "code",
   "execution_count": 4,
   "metadata": {},
   "outputs": [
    {
     "name": "stdout",
     "output_type": "stream",
     "text": [
      "Sparrow flies high\n",
      "Penguins can't fly\n"
     ]
    }
   ],
   "source": [
    "# Demonstrate polymorphism by creating a base class Bird with a method fly(). Create two derived classes Sparrow and Penguin that override the fly() method. \n",
    "\n",
    "class Bird:\n",
    "    def fly(self):\n",
    "        print(\"Bird is flying\")\n",
    "\n",
    "class Sparrow(Bird):\n",
    "    def fly(self):\n",
    "        print(\"Sparrow flies high\")\n",
    "\n",
    "class Penguin(Bird):\n",
    "    def fly(self):\n",
    "        print(\"Penguins can't fly\")\n",
    "\n",
    "def make_bird_fly(bird):\n",
    "    bird.fly()\n",
    "\n",
    "make_bird_fly(Sparrow())\n",
    "make_bird_fly(Penguin())\n"
   ]
  },
  {
   "cell_type": "code",
   "execution_count": 5,
   "metadata": {},
   "outputs": [
    {
     "name": "stdout",
     "output_type": "stream",
     "text": [
      "1200\n"
     ]
    }
   ],
   "source": [
    "#Write a program to demonstrate encapsulation by creating a class BankAccount with private attributes balance and methods to deposit, withdraw, and check balance.\n",
    "\n",
    "class BankAccount:\n",
    "    def __init__(self, initial_balance):\n",
    "        self.__balance = initial_balance\n",
    "\n",
    "    def deposit(self, amount):\n",
    "        if amount > 0:\n",
    "            self.__balance += amount\n",
    "\n",
    "    def withdraw(self, amount):\n",
    "        if 0 < amount <= self.__balance:\n",
    "            self.__balance -= amount\n",
    "\n",
    "    def check_balance(self):\n",
    "        return self.__balance\n",
    "\n",
    "account = BankAccount(1000)\n",
    "account.deposit(500)\n",
    "account.withdraw(300)\n",
    "print(account.check_balance())\n"
   ]
  },
  {
   "cell_type": "code",
   "execution_count": null,
   "metadata": {},
   "outputs": [],
   "source": [
    "# Demonstrate runtime polymorphism using a method play() in a base class Instrument. Derive classes Guitar and Piano that implement their own version of play().\n"
   ]
  },
  {
   "cell_type": "code",
   "execution_count": 6,
   "metadata": {},
   "outputs": [
    {
     "name": "stdout",
     "output_type": "stream",
     "text": [
      "8\n",
      "6\n"
     ]
    }
   ],
   "source": [
    "#Create a class MathOperations with a class method add_numbers() to add two numbers and a static method subtract_numbers() to subtract two numbers.\n",
    "\n",
    "class MathOperations:\n",
    "    @classmethod\n",
    "    def add_numbers(cls, a, b):\n",
    "        return a + b\n",
    "\n",
    "    @staticmethod\n",
    "    def subtract_numbers(a, b):\n",
    "        return a - b\n",
    "\n",
    "print(MathOperations.add_numbers(5, 3))\n",
    "print(MathOperations.subtract_numbers(10, 4))\n"
   ]
  },
  {
   "cell_type": "code",
   "execution_count": 7,
   "metadata": {},
   "outputs": [
    {
     "name": "stdout",
     "output_type": "stream",
     "text": [
      "2\n"
     ]
    }
   ],
   "source": [
    "# Implement a class Person with a class method to count the total number of persons created.\n",
    "\n",
    "class Person:\n",
    "    count = 0\n",
    "\n",
    "    def __init__(self, name):\n",
    "        self.name = name\n",
    "        Person.count += 1\n",
    "\n",
    "    @classmethod\n",
    "    def get_count(cls):\n",
    "        return cls.count\n",
    "\n",
    "p1 = Person(\"Alice\")\n",
    "p2 = Person(\"Bob\")\n",
    "print(Person.get_count())\n"
   ]
  },
  {
   "cell_type": "code",
   "execution_count": null,
   "metadata": {},
   "outputs": [],
   "source": [
    "# Write a class Fraction with attributes numerator and denominator. Override the str method to display the fraction as \"numerator/denominator\".\n"
   ]
  },
  {
   "cell_type": "code",
   "execution_count": 13,
   "metadata": {},
   "outputs": [
    {
     "name": "stdout",
     "output_type": "stream",
     "text": [
      "(6, 8)\n"
     ]
    }
   ],
   "source": [
    "#Demonstrate operator overloading by creating a class Vector and overriding the add method to add two vectors.\n",
    "\n",
    "class Vector:\n",
    "    def __init__(self, x, y):\n",
    "        self.x = x\n",
    "        self.y = y\n",
    "\n",
    "    def __add__(self, other):\n",
    "        return Vector(self.x + other.x, self.y + other.y)\n",
    "\n",
    "    def __str__(self):\n",
    "        return f\"({self.x}, {self.y})\"\n",
    "\n",
    "v1 = Vector(2, 3)\n",
    "v2 = Vector(4, 5)\n",
    "v3 = v1 + v2\n",
    "print(v3)"
   ]
  },
  {
   "cell_type": "code",
   "execution_count": 14,
   "metadata": {},
   "outputs": [
    {
     "name": "stdout",
     "output_type": "stream",
     "text": [
      "Hello, my name is Charlie and I am 28 years old.\n"
     ]
    }
   ],
   "source": [
    "#Create a class Person with attributes name and age. Add a method greet() that prints \"Hello, my name is {name} and I am {age} years old.\n",
    "\n",
    "class Person:\n",
    "    def __init__(self, name, age):\n",
    "        self.name = name\n",
    "        self.age = age\n",
    "\n",
    "    def greet(self):\n",
    "        print(f\"Hello, my name is {self.name} and I am {self.age} years old.\")\n",
    "\n",
    "p = Person(\"Charlie\", 28)\n",
    "p.greet()\n"
   ]
  },
  {
   "cell_type": "code",
   "execution_count": 9,
   "metadata": {},
   "outputs": [
    {
     "name": "stdout",
     "output_type": "stream",
     "text": [
      "84.33333333333333\n"
     ]
    }
   ],
   "source": [
    "#Implement a class Student with attributes name and grades. Create a method average_grade() to compute the average of the grades.\n",
    "\n",
    "class Student:\n",
    "    def __init__(self, name, grades):\n",
    "        self.name = name\n",
    "        self.grades = grades  # List of numbers\n",
    "\n",
    "    def average_grade(self):\n",
    "        return sum(self.grades) / len(self.grades)\n",
    "\n",
    "student = Student(\"Alice\", [85, 90, 78])\n",
    "print(student.average_grade())\n"
   ]
  },
  {
   "cell_type": "code",
   "execution_count": 10,
   "metadata": {},
   "outputs": [
    {
     "name": "stdout",
     "output_type": "stream",
     "text": [
      "50\n"
     ]
    }
   ],
   "source": [
    "# Create a class Rectangle with methods set_dimensions() to set the dimensions and area() to calculate the area.\n",
    "\n",
    "class Rectangle:\n",
    "    def __init__(self):\n",
    "        self.width = 0\n",
    "        self.height = 0\n",
    "\n",
    "    def set_dimensions(self, width, height):\n",
    "        self.width = width\n",
    "        self.height = height\n",
    "\n",
    "    def area(self):\n",
    "        return self.width * self.height\n",
    "\n",
    "rect = Rectangle()\n",
    "rect.set_dimensions(5, 10)\n",
    "print(rect.area())\n"
   ]
  },
  {
   "cell_type": "code",
   "execution_count": 11,
   "metadata": {},
   "outputs": [
    {
     "name": "stdout",
     "output_type": "stream",
     "text": [
      "800\n",
      "1300\n"
     ]
    }
   ],
   "source": [
    "#Create a class Product with attributes name, price, and quantity. Implement a method total_price() that calculates the total price of the product.\n",
    "\n",
    "class Employee:\n",
    "    def __init__(self, hours_worked, hourly_rate):\n",
    "        self.hours_worked = hours_worked\n",
    "        self.hourly_rate = hourly_rate\n",
    "\n",
    "    def calculate_salary(self):\n",
    "        return self.hours_worked * self.hourly_rate\n",
    "\n",
    "class Manager(Employee):\n",
    "    def __init__(self, hours_worked, hourly_rate, bonus):\n",
    "        super().__init__(hours_worked, hourly_rate)\n",
    "        self.bonus = bonus\n",
    "\n",
    "    def calculate_salary(self):\n",
    "        return super().calculate_salary() + self.bonus\n",
    "\n",
    "emp = Employee(40, 20)\n",
    "mgr = Manager(40, 20, 500)\n",
    "\n",
    "print(emp.calculate_salary())  # 800\n",
    "print(mgr.calculate_salary())  # 1300\n"
   ]
  },
  {
   "cell_type": "code",
   "execution_count": 15,
   "metadata": {},
   "outputs": [
    {
     "name": "stdout",
     "output_type": "stream",
     "text": [
      "1600\n"
     ]
    }
   ],
   "source": [
    "# Create a class Product with attributes name, price, and quantity. Implement a method total_price() that calculates the total price of the product\n",
    "\n",
    "class Product:\n",
    "    def __init__(self, name, price, quantity):\n",
    "        self.name = name\n",
    "        self.price = price\n",
    "        self.quantity = quantity\n",
    "\n",
    "    def total_price(self):\n",
    "        return self.price * self.quantity\n",
    "\n",
    "product = Product(\"Laptop\", 800, 2)\n",
    "print(product.total_price())\n"
   ]
  },
  {
   "cell_type": "code",
   "execution_count": 16,
   "metadata": {},
   "outputs": [
    {
     "name": "stdout",
     "output_type": "stream",
     "text": [
      "Moo\n",
      "Baa\n"
     ]
    }
   ],
   "source": [
    "#Create a class Animal with an abstract method sound(). Create two derived classes Cow and Sheep that implement the sound() method.\n",
    "\n",
    "from abc import ABC, abstractmethod\n",
    "\n",
    "class Animal(ABC):\n",
    "    @abstractmethod\n",
    "    def sound(self):\n",
    "        pass\n",
    "\n",
    "class Cow(Animal):\n",
    "    def sound(self):\n",
    "        return \"Moo\"\n",
    "\n",
    "class Sheep(Animal):\n",
    "    def sound(self):\n",
    "        return \"Baa\"\n",
    "\n",
    "cow = Cow()\n",
    "sheep = Sheep()\n",
    "\n",
    "print(cow.sound())\n",
    "print(sheep.sound())\n"
   ]
  },
  {
   "cell_type": "code",
   "execution_count": 17,
   "metadata": {},
   "outputs": [
    {
     "name": "stdout",
     "output_type": "stream",
     "text": [
      "'1984' by George Orwell, published in 1949\n"
     ]
    }
   ],
   "source": [
    "#Create a class Book with attributes title, author, and year_published. Add a method get_book_info() that returns a formatted string with the book's details.\n",
    "\n",
    "class Book:\n",
    "    def __init__(self, title, author, year_published):\n",
    "        self.title = title\n",
    "        self.author = author\n",
    "        self.year_published = year_published\n",
    "\n",
    "    def get_book_info(self):\n",
    "        return f\"'{self.title}' by {self.author}, published in {self.year_published}\"\n",
    "\n",
    "book = Book(\"1984\", \"George Orwell\", 1949)\n",
    "print(book.get_book_info())\n"
   ]
  },
  {
   "cell_type": "code",
   "execution_count": 18,
   "metadata": {},
   "outputs": [
    {
     "name": "stdout",
     "output_type": "stream",
     "text": [
      "123 Luxury St 5000000 12\n"
     ]
    }
   ],
   "source": [
    "# Create a class House with attributes address and price. Create a derived class Mansion that adds an attribute number_of_rooms\n",
    "\n",
    "class House:\n",
    "    def __init__(self, address, price):\n",
    "        self.address = address\n",
    "        self.price = price\n",
    "\n",
    "class Mansion(House):\n",
    "    def __init__(self, address, price, number_of_rooms):\n",
    "        super().__init__(address, price)\n",
    "        self.number_of_rooms = number_of_rooms\n",
    "\n",
    "mansion = Mansion(\"123 Luxury St\", 5000000, 12)\n",
    "print(mansion.address, mansion.price, mansion.number_of_rooms)"
   ]
  }
 ],
 "metadata": {
  "kernelspec": {
   "display_name": "Python 3",
   "language": "python",
   "name": "python3"
  },
  "language_info": {
   "codemirror_mode": {
    "name": "ipython",
    "version": 3
   },
   "file_extension": ".py",
   "mimetype": "text/x-python",
   "name": "python",
   "nbconvert_exporter": "python",
   "pygments_lexer": "ipython3",
   "version": "3.13.2"
  }
 },
 "nbformat": 4,
 "nbformat_minor": 2
}
